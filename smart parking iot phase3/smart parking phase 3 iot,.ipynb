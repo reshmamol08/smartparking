{
 "cells": [
  {
   "cell_type": "code",
   "execution_count": 1,
   "id": "fcd03076",
   "metadata": {},
   "outputs": [
    {
     "name": "stdout",
     "output_type": "stream",
     "text": [
      "2\n"
     ]
    }
   ],
   "source": [
    "# Python3 program for the above approach\n",
    " \n",
    "# Function to count maximum number\n",
    "# of cars parked at the same\n",
    "def maxCars(arr, N):\n",
    "   \n",
    "    # Stores info about\n",
    "    # entry and exit times\n",
    "    a = [[0,True] for i in range(2 * N)]\n",
    " \n",
    "    # Convert given array to new array\n",
    "    for i in range(N):\n",
    "        a[2 * i] = [arr[i][0], True]\n",
    "        a[2 * i + 1] = [arr[i][1], False]\n",
    " \n",
    "    # Sort array in ascending\n",
    "    # order of time\n",
    "    a = sorted(a)\n",
    " \n",
    "    # Stores current maximum\n",
    "    # at every iteration\n",
    "    curMax = 0\n",
    " \n",
    "    # Stores final maximum number\n",
    "    # of cars parked at any time\n",
    "    maxFinal = 0\n",
    " \n",
    "    # Traverse the array\n",
    "    for i in range(2*N):\n",
    " \n",
    "        # When car entered\n",
    "        if (a[i][1]):\n",
    "            curMax += 1\n",
    "        # When car exits\n",
    "        else:\n",
    "            if (curMax > maxFinal):\n",
    "                maxFinal = curMax\n",
    "            curMax -= 1\n",
    " \n",
    "    # Print answer\n",
    "    print (maxFinal)\n",
    " \n",
    "# Driver Code\n",
    "if __name__ == '__main__':\n",
    "    # Given array\n",
    "    arr= [ [ 1012, 1136 ],\n",
    "         [ 1317, 1412 ],\n",
    "         [ 1015, 1020 ]]\n",
    " \n",
    "    # Size of the array\n",
    "    N = len(arr)\n",
    " \n",
    "    # Function Call\n",
    "    maxCars(arr, N)"
   ]
  },
  {
   "cell_type": "code",
   "execution_count": 2,
   "id": "706071ac",
   "metadata": {},
   "outputs": [
    {
     "name": "stdout",
     "output_type": "stream",
     "text": [
      "True\n",
      "False\n",
      "False\n",
      "True\n",
      "True\n",
      "False\n"
     ]
    }
   ],
   "source": [
    "class OurParkingSystem:\n",
    "   def __init__(self, big, medium, small):\n",
    "      self.sp = [0,big,medium,small]\n",
    "\n",
    "   def addCar(self, carType):\n",
    "      if(self.sp[carType] >0 ):\n",
    "         self.sp[carType] -= 1\n",
    "         return True\n",
    "      return False\n",
    "\n",
    "ps = OurParkingSystem(2, 0, 1)\n",
    "print(ps.addCar(3))\n",
    "print(ps.addCar(2))\n",
    "print(ps.addCar(3))\n",
    "print(ps.addCar(1))\n",
    "print(ps.addCar(1))\n",
    "print(ps.addCar(1))\n"
   ]
  },
  {
   "cell_type": "code",
   "execution_count": null,
   "id": "99403bcd",
   "metadata": {},
   "outputs": [],
   "source": []
  }
 ],
 "metadata": {
  "kernelspec": {
   "display_name": "Python 3 (ipykernel)",
   "language": "python",
   "name": "python3"
  },
  "language_info": {
   "codemirror_mode": {
    "name": "ipython",
    "version": 3
   },
   "file_extension": ".py",
   "mimetype": "text/x-python",
   "name": "python",
   "nbconvert_exporter": "python",
   "pygments_lexer": "ipython3",
   "version": "3.11.5"
  }
 },
 "nbformat": 4,
 "nbformat_minor": 5
}
